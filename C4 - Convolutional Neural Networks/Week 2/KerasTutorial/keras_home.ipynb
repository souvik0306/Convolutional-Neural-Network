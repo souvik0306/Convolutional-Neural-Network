{
 "cells": [
  {
   "cell_type": "code",
   "execution_count": 12,
   "metadata": {},
   "outputs": [],
   "source": [
    "import numpy as np\n",
    "from keras import layers\n",
    "from keras.layers import Input, Dense, Activation, ZeroPadding2D, BatchNormalization, Flatten, Conv2D\n",
    "from keras.layers import AveragePooling2D, MaxPooling2D, Dropout, GlobalMaxPooling2D, GlobalAveragePooling2D\n",
    "from keras.models import Model\n",
    "from keras.preprocessing import image\n",
    "from keras.utils import layer_utils\n",
    "from keras.utils.data_utils import get_file\n",
    "from keras.applications.imagenet_utils import preprocess_input\n",
    "import pydot\n",
    "from IPython.display import SVG\n",
    "from keras.utils.vis_utils import model_to_dot\n",
    "from keras.utils.vis_utils import plot_model\n",
    "from kt_utils import *\n",
    "\n",
    "import keras.backend as K\n",
    "K.set_image_data_format('channels_last')\n",
    "import matplotlib.pyplot as plt\n",
    "from matplotlib.pyplot import imshow\n",
    "\n",
    "%matplotlib inline"
   ]
  },
  {
   "cell_type": "code",
   "execution_count": 13,
   "metadata": {},
   "outputs": [
    {
     "name": "stdout",
     "output_type": "stream",
     "text": [
      "number of training examples = 600\n",
      "number of test examples = 150\n",
      "X_train shape: (600, 64, 64, 3)\n",
      "Y_train shape: (600, 1)\n",
      "X_test shape: (150, 64, 64, 3)\n",
      "Y_test shape: (150, 1)\n"
     ]
    }
   ],
   "source": [
    "X_train_orig, Y_train_orig, X_test_orig, Y_test_orig, classes = load_dataset()\n",
    "\n",
    "# Normalize image vectors\n",
    "X_train = X_train_orig/255.\n",
    "X_test = X_test_orig/255.\n",
    "\n",
    "# Reshape\n",
    "Y_train = Y_train_orig.T\n",
    "Y_test = Y_test_orig.T\n",
    "\n",
    "print (\"number of training examples = \" + str(X_train.shape[0]))\n",
    "print (\"number of test examples = \" + str(X_test.shape[0]))\n",
    "print (\"X_train shape: \" + str(X_train.shape))\n",
    "print (\"Y_train shape: \" + str(Y_train.shape))\n",
    "print (\"X_test shape: \" + str(X_test.shape))\n",
    "print (\"Y_test shape: \" + str(Y_test.shape))"
   ]
  },
  {
   "cell_type": "code",
   "execution_count": 20,
   "metadata": {},
   "outputs": [],
   "source": [
    "# GRADED FUNCTION: HappyModel\n",
    "\n",
    "def HappyModel(input_shape):\n",
    "    \"\"\"\n",
    "    Implementation of the HappyModel.\n",
    "    \n",
    "    Arguments:\n",
    "    input_shape -- shape of the images of the dataset\n",
    "\n",
    "    Returns:\n",
    "    model -- a Model() instance in Keras\n",
    "    \"\"\"\n",
    "    \n",
    "    ### START CODE HERE ###\n",
    "    # Feel free to use the suggested outline in the text above to get started, and run through the whole\n",
    "    # exercise (including the later portions of this notebook) once. The come back also try out other\n",
    "    # network architectures as well. \n",
    "        # Define the input placeholder as a tensor with shape input_shape. Think of this as your input image!\n",
    "    X_input = Input(input_shape)\n",
    "\n",
    "    # Zero-Padding: pads the border of X_input with zeroes\n",
    "    X = ZeroPadding2D((3, 3))(X_input)\n",
    "\n",
    "    # CONV -> BN -> RELU Block applied to X\n",
    "    X = Conv2D(32, (7, 7), strides=(1, 1), name='conv0')(X)\n",
    "    X = BatchNormalization(axis=3, name='bn0')(X)\n",
    "    X = Activation('relu')(X)\n",
    "\n",
    "    # MAXPOOL\n",
    "    X = MaxPooling2D((2, 2), name='max_pool')(X)\n",
    "\n",
    "    # FLATTEN X (means convert it to a vector) + FULLYCONNECTED\n",
    "    X = Flatten()(X)\n",
    "    X = Dense(1, activation='sigmoid', name='fc')(X)\n",
    "\n",
    "    # Create model. This creates your Keras model instance, you'll use this instance to train/test the model.\n",
    "    model = Model(inputs=X_input, outputs=X, name='HappyModel')\n",
    "\n",
    "    return model\n",
    "    ### END CODE HERE ###\n",
    "    \n",
    "    return model"
   ]
  },
  {
   "cell_type": "code",
   "execution_count": 21,
   "metadata": {},
   "outputs": [],
   "source": [
    "happyModel = HappyModel(X_train.shape[1:])"
   ]
  },
  {
   "cell_type": "code",
   "execution_count": 22,
   "metadata": {},
   "outputs": [],
   "source": [
    "happyModel.compile(optimizer='adam',loss='binary_crossentropy',metrics=['accuracy']\n",
    ")"
   ]
  },
  {
   "cell_type": "code",
   "execution_count": 23,
   "metadata": {},
   "outputs": [
    {
     "name": "stdout",
     "output_type": "stream",
     "text": [
      "Model: \"HappyModel\"\n",
      "_________________________________________________________________\n",
      " Layer (type)                Output Shape              Param #   \n",
      "=================================================================\n",
      " input_8 (InputLayer)        [(None, 64, 64, 3)]       0         \n",
      "                                                                 \n",
      " zero_padding2d_7 (ZeroPaddi  (None, 70, 70, 3)        0         \n",
      " ng2D)                                                           \n",
      "                                                                 \n",
      " conv0 (Conv2D)              (None, 64, 64, 32)        4736      \n",
      "                                                                 \n",
      " bn0 (BatchNormalization)    (None, 64, 64, 32)        128       \n",
      "                                                                 \n",
      " activation_6 (Activation)   (None, 64, 64, 32)        0         \n",
      "                                                                 \n",
      " max_pool (MaxPooling2D)     (None, 32, 32, 32)        0         \n",
      "                                                                 \n",
      " flatten_6 (Flatten)         (None, 32768)             0         \n",
      "                                                                 \n",
      " fc (Dense)                  (None, 1)                 32769     \n",
      "                                                                 \n",
      "=================================================================\n",
      "Total params: 37,633\n",
      "Trainable params: 37,569\n",
      "Non-trainable params: 64\n",
      "_________________________________________________________________\n"
     ]
    }
   ],
   "source": [
    "happyModel.summary()"
   ]
  },
  {
   "cell_type": "code",
   "execution_count": 24,
   "metadata": {},
   "outputs": [
    {
     "name": "stdout",
     "output_type": "stream",
     "text": [
      "Epoch 1/40\n",
      "12/12 [==============================] - 10s 29ms/step - loss: 2.0737 - accuracy: 0.5633\n",
      "Epoch 2/40\n",
      "12/12 [==============================] - 0s 16ms/step - loss: 0.5600 - accuracy: 0.7583\n",
      "Epoch 3/40\n",
      "12/12 [==============================] - 0s 15ms/step - loss: 0.2447 - accuracy: 0.9067\n",
      "Epoch 4/40\n",
      "12/12 [==============================] - 0s 15ms/step - loss: 0.1593 - accuracy: 0.9450\n",
      "Epoch 5/40\n",
      "12/12 [==============================] - 0s 15ms/step - loss: 0.1330 - accuracy: 0.9517\n",
      "Epoch 6/40\n",
      "12/12 [==============================] - 0s 14ms/step - loss: 0.1207 - accuracy: 0.9650\n",
      "Epoch 7/40\n",
      "12/12 [==============================] - 0s 16ms/step - loss: 0.1162 - accuracy: 0.9583\n",
      "Epoch 8/40\n",
      "12/12 [==============================] - 0s 15ms/step - loss: 0.0854 - accuracy: 0.9733\n",
      "Epoch 9/40\n",
      "12/12 [==============================] - 0s 15ms/step - loss: 0.0717 - accuracy: 0.9867\n",
      "Epoch 10/40\n",
      "12/12 [==============================] - 0s 14ms/step - loss: 0.0649 - accuracy: 0.9800\n",
      "Epoch 11/40\n",
      "12/12 [==============================] - 0s 17ms/step - loss: 0.0622 - accuracy: 0.9817\n",
      "Epoch 12/40\n",
      "12/12 [==============================] - 0s 14ms/step - loss: 0.0603 - accuracy: 0.9817\n",
      "Epoch 13/40\n",
      "12/12 [==============================] - 0s 14ms/step - loss: 0.0627 - accuracy: 0.9817\n",
      "Epoch 14/40\n",
      "12/12 [==============================] - 0s 12ms/step - loss: 0.0519 - accuracy: 0.9883\n",
      "Epoch 15/40\n",
      "12/12 [==============================] - 0s 13ms/step - loss: 0.0380 - accuracy: 0.9917\n",
      "Epoch 16/40\n",
      "12/12 [==============================] - 0s 14ms/step - loss: 0.0541 - accuracy: 0.9867\n",
      "Epoch 17/40\n",
      "12/12 [==============================] - 0s 14ms/step - loss: 0.0440 - accuracy: 0.9900\n",
      "Epoch 18/40\n",
      "12/12 [==============================] - 0s 15ms/step - loss: 0.0429 - accuracy: 0.9883\n",
      "Epoch 19/40\n",
      "12/12 [==============================] - 0s 15ms/step - loss: 0.0414 - accuracy: 0.9883\n",
      "Epoch 20/40\n",
      "12/12 [==============================] - 0s 15ms/step - loss: 0.0475 - accuracy: 0.9867\n",
      "Epoch 21/40\n",
      "12/12 [==============================] - 0s 13ms/step - loss: 0.0317 - accuracy: 0.9933\n",
      "Epoch 22/40\n",
      "12/12 [==============================] - 0s 13ms/step - loss: 0.0270 - accuracy: 0.9933\n",
      "Epoch 23/40\n",
      "12/12 [==============================] - 0s 15ms/step - loss: 0.0217 - accuracy: 0.9983\n",
      "Epoch 24/40\n",
      "12/12 [==============================] - 0s 16ms/step - loss: 0.0241 - accuracy: 0.9933\n",
      "Epoch 25/40\n",
      "12/12 [==============================] - 0s 13ms/step - loss: 0.0253 - accuracy: 0.9900\n",
      "Epoch 26/40\n",
      "12/12 [==============================] - 0s 13ms/step - loss: 0.0298 - accuracy: 0.9950\n",
      "Epoch 27/40\n",
      "12/12 [==============================] - 0s 13ms/step - loss: 0.0437 - accuracy: 0.9850\n",
      "Epoch 28/40\n",
      "12/12 [==============================] - 0s 13ms/step - loss: 0.0363 - accuracy: 0.9867\n",
      "Epoch 29/40\n",
      "12/12 [==============================] - 0s 14ms/step - loss: 0.0229 - accuracy: 0.9967\n",
      "Epoch 30/40\n",
      "12/12 [==============================] - 0s 13ms/step - loss: 0.0187 - accuracy: 0.9933\n",
      "Epoch 31/40\n",
      "12/12 [==============================] - 0s 12ms/step - loss: 0.0199 - accuracy: 0.9950\n",
      "Epoch 32/40\n",
      "12/12 [==============================] - 0s 12ms/step - loss: 0.0148 - accuracy: 0.9983\n",
      "Epoch 33/40\n",
      "12/12 [==============================] - 0s 12ms/step - loss: 0.0186 - accuracy: 0.9933\n",
      "Epoch 34/40\n",
      "12/12 [==============================] - 0s 12ms/step - loss: 0.0130 - accuracy: 0.9983\n",
      "Epoch 35/40\n",
      "12/12 [==============================] - 0s 12ms/step - loss: 0.0168 - accuracy: 0.9967\n",
      "Epoch 36/40\n",
      "12/12 [==============================] - 0s 12ms/step - loss: 0.0182 - accuracy: 0.9950\n",
      "Epoch 37/40\n",
      "12/12 [==============================] - 0s 12ms/step - loss: 0.0091 - accuracy: 1.0000\n",
      "Epoch 38/40\n",
      "12/12 [==============================] - 0s 12ms/step - loss: 0.0107 - accuracy: 0.9983\n",
      "Epoch 39/40\n",
      "12/12 [==============================] - 0s 12ms/step - loss: 0.0108 - accuracy: 0.9983\n",
      "Epoch 40/40\n",
      "12/12 [==============================] - 0s 12ms/step - loss: 0.0118 - accuracy: 0.9950\n"
     ]
    },
    {
     "data": {
      "text/plain": [
       "<keras.callbacks.History at 0x285862b30d0>"
      ]
     },
     "execution_count": 24,
     "metadata": {},
     "output_type": "execute_result"
    }
   ],
   "source": [
    "happyModel.fit(X_train, Y_train, epochs=40, batch_size=50)"
   ]
  },
  {
   "cell_type": "code",
   "execution_count": 25,
   "metadata": {},
   "outputs": [
    {
     "name": "stdout",
     "output_type": "stream",
     "text": [
      "5/5 [==============================] - 1s 15ms/step - loss: 0.0981 - accuracy: 0.9533\n",
      "\n",
      "Loss = 0.09809255599975586\n",
      "Test Accuracy = 0.95333331823349\n"
     ]
    }
   ],
   "source": [
    "### START CODE HERE ### (1 line)\n",
    "preds = happyModel.evaluate(X_test, Y_test, batch_size=32, verbose=1, sample_weight=None)\n",
    "### END CODE HERE ###\n",
    "print()\n",
    "print (\"Loss = \" + str(preds[0]))\n",
    "print (\"Test Accuracy = \" + str(preds[1]))"
   ]
  },
  {
   "cell_type": "code",
   "execution_count": 26,
   "metadata": {},
   "outputs": [
    {
     "name": "stdout",
     "output_type": "stream",
     "text": [
      "[[0.]]\n"
     ]
    },
    {
     "data": {
      "image/png": "[encoded data removed]",
      "text/plain": [
       "<Figure size 432x288 with 1 Axes>"
      ]
     },
     "metadata": {
      "needs_background": "light"
     },
     "output_type": "display_data"
    }
   ],
   "source": [
    "### START CODE HERE ###\n",
    "img_path = 'images/my_image.jpg'\n",
    "### END CODE HERE ###\n",
    "img = image.load_img(img_path, target_size=(64, 64))\n",
    "imshow(img)\n",
    "\n",
    "x = image.img_to_array(img)\n",
    "x = np.expand_dims(x, axis=0)\n",
    "x = preprocess_input(x)\n",
    "\n",
    "print(happyModel.predict(x))"
   ]
  },
  {
   "cell_type": "code",
   "execution_count": null,
   "metadata": {},
   "outputs": [],
   "source": []
  }
 ],
 "metadata": {
  "kernelspec": {
   "display_name": "Python 3.9.7 64-bit",
   "language": "python",
   "name": "python3"
  },
  "language_info": {
   "codemirror_mode": {
    "name": "ipython",
    "version": 3
   },
   "file_extension": ".py",
   "mimetype": "text/x-python",
   "name": "python",
   "nbconvert_exporter": "python",
   "pygments_lexer": "ipython3",
   "version": "3.9.7"
  },
  "orig_nbformat": 4,
  "vscode": {
   "interpreter": {
    "hash": "903d28fc8095cdeaee5be616f3ebb92fafee475741240b3f05159e4f3ac8bf72"
   }
  }
 },
 "nbformat": 4,
 "nbformat_minor": 2
}
