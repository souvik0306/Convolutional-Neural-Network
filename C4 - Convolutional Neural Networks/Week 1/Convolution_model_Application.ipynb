{
 "cells": [
  {
   "cell_type": "markdown",
   "metadata": {},
   "source": [
    "# Convolutional Neural Networks: Application\n",
    "\n",
    "Welcome to Course 4's second assignment! In this notebook, you will:\n",
    "\n",
    "- Create a mood classifer using the TF Keras Sequential API\n",
    "- Build a ConvNet to identify sign language digits using the TF Keras Functional API\n",
    "\n",
    "**After this assignment you will be able to:**\n",
    "\n",
    "- Build and train a ConvNet in TensorFlow for a __binary__ classification problem\n",
    "- Build and train a ConvNet in TensorFlow for a __multiclass__ classification problem\n",
    "- Explain different use cases for the Sequential and Functional APIs\n",
    "\n",
    "To complete this assignment, you should already be familiar with TensorFlow. If you are not, please refer back to the **TensorFlow Tutorial** of the third week of Course 2 (\"**Improving deep neural networks**\")."
   ]
  },
  {
   "cell_type": "markdown",
   "metadata": {},
   "source": [
    "## Table of Contents\n",
    "\n",
    "- [1 - Packages](#1)\n",
    "    - [1.1 - Load the Data and Split the Data into Train/Test Sets](#1-1)\n",
    "- [2 - Layers in TF Keras](#2)\n",
    "- [3 - The Sequential API](#3)\n",
    "    - [3.1 - Create the Sequential Model](#3-1)\n",
    "        - [Exercise 1 - happyModel](#ex-1)\n",
    "    - [3.2 - Train and Evaluate the Model](#3-2)\n",
    "- [4 - The Functional API](#4)\n",
    "    - [4.1 - Load the SIGNS Dataset](#4-1)\n",
    "    - [4.2 - Split the Data into Train/Test Sets](#4-2)\n",
    "    - [4.3 - Forward Propagation](#4-3)\n",
    "        - [Exercise 2 - convolutional_model](#ex-2)\n",
    "    - [4.4 - Train the Model](#4-4)\n",
    "- [5 - History Object](#5)\n",
    "- [6 - Bibliography](#6)"
   ]
  },
  {
   "cell_type": "markdown",
   "metadata": {},
   "source": [
    "<a name='1'></a>\n",
    "## 1 - Packages\n",
    "\n",
    "As usual, begin by loading in the packages."
   ]
  },
  {
   "cell_type": "code",
   "execution_count": 3,
   "metadata": {},
   "outputs": [],
   "source": [
    "import math\n",
    "import numpy as np\n",
    "import h5py\n",
    "import matplotlib.pyplot as plt\n",
    "from matplotlib.pyplot import imread\n",
    "import scipy\n",
    "from PIL import Image\n",
    "import pandas as pd\n",
    "import tensorflow as tf\n",
    "import tensorflow.keras.layers as tfl\n",
    "from tensorflow.python.framework import ops\n",
    "from cnn_utils import *\n",
    "from test_utils import summary, comparator\n",
    "\n",
    "%matplotlib inline\n",
    "np.random.seed(1)"
   ]
  },
  {
   "cell_type": "markdown",
   "metadata": {},
   "source": [
    "<a name='1-1'></a>\n",
    "### 1.1 - Load the Data and Split the Data into Train/Test Sets\n",
    "\n",
    "You'll be using the Happy House dataset for this part of the assignment, which contains images of peoples' faces. Your task will be to build a ConvNet that determines whether the people in the images are smiling or not -- because they only get to enter the house if they're smiling!  "
   ]
  },
  {
   "cell_type": "code",
   "execution_count": 4,
   "metadata": {},
   "outputs": [
    {
     "name": "stdout",
     "output_type": "stream",
     "text": [
      "number of training examples = 600\n",
      "number of test examples = 150\n",
      "X_train shape: (600, 64, 64, 3)\n",
      "Y_train shape: (600, 1)\n",
      "X_test shape: (150, 64, 64, 3)\n",
      "Y_test shape: (150, 1)\n"
     ]
    }
   ],
   "source": [
    "X_train_orig, Y_train_orig, X_test_orig, Y_test_orig, classes = load_happy_dataset()\n",
    "\n",
    "# Normalize image vectors\n",
    "X_train = X_train_orig/255.\n",
    "X_test = X_test_orig/255.\n",
    "\n",
    "# Reshape\n",
    "Y_train = Y_train_orig.T\n",
    "Y_test = Y_test_orig.T\n",
    "\n",
    "print (\"number of training examples = \" + str(X_train.shape[0]))\n",
    "print (\"number of test examples = \" + str(X_test.shape[0]))\n",
    "print (\"X_train shape: \" + str(X_train.shape))\n",
    "print (\"Y_train shape: \" + str(Y_train.shape))\n",
    "print (\"X_test shape: \" + str(X_test.shape))\n",
    "print (\"Y_test shape: \" + str(Y_test.shape))"
   ]
  },
  {
   "cell_type": "markdown",
   "metadata": {},
   "source": [
    "You can display the images contained in the dataset. Images are **64x64** pixels in RGB format (3 channels)."
   ]
  },
  {
   "cell_type": "code",
   "execution_count": 5,
   "metadata": {},
   "outputs": [
    {
     "data": {
      "image/png": "[encoded data removed]",
      "text/plain": [
       "<Figure size 432x288 with 1 Axes>"
      ]
     },
     "metadata": {
      "needs_background": "light"
     },
     "output_type": "display_data"
    }
   ],
   "source": [
    "index = 124\n",
    "plt.imshow(X_train_orig[index]) #display sample training image\n",
    "plt.show()"
   ]
  },
  {
   "cell_type": "markdown",
   "metadata": {},
   "source": [
    "<a name='2'></a>\n",
    "## 2 - Layers in TF Keras \n",
    "\n",
    "In the previous assignment, you created layers manually in numpy. In TF Keras, you don't have to write code directly to create layers. Rather, TF Keras has pre-defined layers you can use. \n",
    "\n",
    "When you create a layer in TF Keras, you are creating a function that takes some input and transforms it into an output you can reuse later. Nice and easy! "
   ]
  },
  {
   "cell_type": "markdown",
   "metadata": {},
   "source": [
    "<a name='3'></a>\n",
    "## 3 - The Sequential API\n",
    "\n",
    "In the previous assignment, you built helper functions using `numpy` to understand the mechanics behind convolutional neural networks. Most practical applications of deep learning today are built using programming frameworks, which have many built-in functions you can simply call. Keras is a high-level abstraction built on top of TensorFlow, which allows for even more simplified and optimized model creation and training. \n",
    "\n",
    "For the first part of this assignment, you'll create a model using TF Keras' Sequential API, which allows you to build layer by layer, and is ideal for building models where each layer has **exactly one** input tensor and **one** output tensor. \n",
    "\n",
    "As you'll see, using the Sequential API is simple and straightforward, but is only appropriate for simpler, more straightforward tasks. Later in this notebook you'll spend some time building with a more flexible, powerful alternative: the Functional API. \n",
    " "
   ]
  },
  {
   "cell_type": "markdown",
   "metadata": {},
   "source": [
    "<a name='3-1'></a>\n",
    "### 3.1 - Create the Sequential Model\n",
    "\n",
    "As mentioned earlier, the TensorFlow Keras Sequential API can be used to build simple models with layer operations that proceed in a sequential order. \n",
    "\n",
    "You can also add layers incrementally to a Sequential model with the `.add()` method, or remove them using the `.pop()` method, much like you would in a regular Python list.\n",
    "\n",
    "Actually, you can think of a Sequential model as behaving like a list of layers. Like Python lists, Sequential layers are ordered, and the order in which they are specified matters.  If your model is non-linear or contains layers with multiple inputs or outputs, a Sequential model wouldn't be the right choice!\n",
    "\n",
    "For any layer construction in Keras, you'll need to specify the input shape in advance. This is because in Keras, the shape of the weights is based on the shape of the inputs. The weights are only created when the model first sees some input data. Sequential models can be created by passing a list of layers to the Sequential constructor, like you will do in the next assignment.\n",
    "\n",
    "<a name='ex-1'></a>\n",
    "### Exercise 1 - happyModel\n",
    "\n",
    "Implement the `happyModel` function below to build the following model: `ZEROPAD2D -> CONV2D -> BATCHNORM -> RELU -> MAXPOOL -> FLATTEN -> DENSE`. Take help from [tf.keras.layers](https://www.tensorflow.org/api_docs/python/tf/keras/layers) \n",
    "\n",
    "Also, plug in the following parameters for all the steps:\n",
    "\n",
    " - [ZeroPadding2D](https://www.tensorflow.org/api_docs/python/tf/keras/layers/ZeroPadding2D): padding 3, input shape 64 x 64 x 3\n",
    " - [Conv2D](https://www.tensorflow.org/api_docs/python/tf/keras/layers/Conv2D): Use 32 7x7 filters, stride 1\n",
    " - [BatchNormalization](https://www.tensorflow.org/api_docs/python/tf/keras/layers/BatchNormalization): for axis 3\n",
    " - [ReLU](https://www.tensorflow.org/api_docs/python/tf/keras/layers/ReLU)\n",
    " - [MaxPool2D](https://www.tensorflow.org/api_docs/python/tf/keras/layers/MaxPool2D): Using default parameters\n",
    " - [Flatten](https://www.tensorflow.org/api_docs/python/tf/keras/layers/Flatten) the previous output.\n",
    " - Fully-connected ([Dense](https://www.tensorflow.org/api_docs/python/tf/keras/layers/Dense)) layer: Apply a fully connected layer with 1 neuron and a sigmoid activation. \n",
    " \n",
    " \n",
    " **Hint:**\n",
    " \n",
    " Use **tfl** as shorthand for **tensorflow.keras.layers**"
   ]
  },
  {
   "cell_type": "code",
   "execution_count": 6,
   "metadata": {
    "deletable": false,
    "nbgrader": {
     "cell_type": "code",
     "checksum": "95d28b191f257bdd5b70c7b8952559d5",
     "grade": false,
     "grade_id": "cell-0e56d3fc28b69aec",
     "locked": false,
     "schema_version": 3,
     "solution": true,
     "task": false
    }
   },
   "outputs": [],
   "source": [
    "# GRADED FUNCTION: happyModel\n",
    "\n",
    "def happyModel():\n",
    "    \"\"\"\n",
    "    Implements the forward propagation for the binary classification model:\n",
    "    ZEROPAD2D -> CONV2D -> BATCHNORM -> RELU -> MAXPOOL -> FLATTEN -> DENSE\n",
    "    \n",
    "    Note that for simplicity and grading purposes, you'll hard-code all the values\n",
    "    such as the stride and kernel (filter) sizes. \n",
    "    Normally, functions should take these values as function parameters.\n",
    "    \n",
    "    Arguments:\n",
    "    None\n",
    "\n",
    "    Returns:\n",
    "    model -- TF Keras model (object containing the information for the entire training process) \n",
    "    \"\"\"\n",
    "    model = tf.keras.Sequential([\n",
    "            tf.keras.Input(shape=(64 , 64 ,3)),\n",
    "            ## ZeroPadding2D with padding 3, input shape of 64 x 64 x 3\n",
    "            tfl.ZeroPadding2D(padding=3), # As import tensorflow.keras.layers as tfl\n",
    "            ## Conv2D with 32 7x7 filters and stride of 1\n",
    "            tfl.Conv2D(filters=32,kernel_size=7,strides=1),\n",
    "            ## BatchNormalization for axis 3\n",
    "            tfl.BatchNormalization(axis=3, momentum=0.99, epsilon=0.001),\n",
    "            ## ReLU\n",
    "            tfl.ReLU(),\n",
    "            ## Max Pooling 2D with default parameters\n",
    "            tfl.MaxPool2D(),\n",
    "            ## Flatten layer\n",
    "            tfl.Flatten(),\n",
    "            ## Dense layer with 1 unit for output & 'sigmoid' activation\n",
    "            tfl.Dense(1,activation='sigmoid')\n",
    "        ])\n",
    "    \n",
    "    return model"
   ]
  },
  {
   "cell_type": "code",
   "execution_count": 7,
   "metadata": {
    "deletable": false,
    "editable": false,
    "nbgrader": {
     "cell_type": "code",
     "checksum": "8d3575c950e2e78149be2d05d671c80d",
     "grade": true,
     "grade_id": "cell-e3e1046e5c33d775",
     "locked": true,
     "points": 10,
     "schema_version": 3,
     "solution": false,
     "task": false
    }
   },
   "outputs": [
    {
     "name": "stdout",
     "output_type": "stream",
     "text": [
      "['ZeroPadding2D', (None, 70, 70, 3), 0, ((3, 3), (3, 3))]\n",
      "['Conv2D', (None, 64, 64, 32), 4736, 'valid', 'linear', 'GlorotUniform']\n",
      "['BatchNormalization', (None, 64, 64, 32), 128]\n",
      "['ReLU', (None, 64, 64, 32), 0]\n",
      "['MaxPooling2D', (None, 32, 32, 32), 0, (2, 2), (2, 2), 'valid']\n",
      "['Flatten', (None, 32768), 0]\n",
      "['Dense', (None, 1), 32769, 'sigmoid']\n",
      "\u001b[32mAll tests passed!\u001b[0m\n"
     ]
    }
   ],
   "source": [
    "happy_model = happyModel()\n",
    "# Print a summary for each layer\n",
    "for layer in summary(happy_model):\n",
    "    print(layer)\n",
    "    \n",
    "output = [['ZeroPadding2D', (None, 70, 70, 3), 0, ((3, 3), (3, 3))],\n",
    "            ['Conv2D', (None, 64, 64, 32), 4736, 'valid', 'linear', 'GlorotUniform'],\n",
    "            ['BatchNormalization', (None, 64, 64, 32), 128],\n",
    "            ['ReLU', (None, 64, 64, 32), 0],\n",
    "            ['MaxPooling2D', (None, 32, 32, 32), 0, (2, 2), (2, 2), 'valid'],\n",
    "            ['Flatten', (None, 32768), 0],\n",
    "            ['Dense', (None, 1), 32769, 'sigmoid']]\n",
    "    \n",
    "comparator(summary(happy_model), output)"
   ]
  },
  {
   "cell_type": "markdown",
   "metadata": {},
   "source": [
    "Now that your model is created, you can compile it for training with an optimizer and loss of your choice. When the string `accuracy` is specified as a metric, the type of accuracy used will be automatically converted based on the loss function used. This is one of the many optimizations built into TensorFlow that make your life easier! If you'd like to read more on how the compiler operates, check the docs [here](https://www.tensorflow.org/api_docs/python/tf/keras/Model#compile)."
   ]
  },
  {
   "cell_type": "code",
   "execution_count": 8,
   "metadata": {},
   "outputs": [],
   "source": [
    "happy_model.compile(optimizer='adam',\n",
    "                   loss='binary_crossentropy',\n",
    "                   metrics=['accuracy'])"
   ]
  },
  {
   "cell_type": "markdown",
   "metadata": {},
   "source": [
    "It's time to check your model's parameters with the `.summary()` method. This will display the types of layers you have, the shape of the outputs, and how many parameters are in each layer. "
   ]
  },
  {
   "cell_type": "code",
   "execution_count": 9,
   "metadata": {},
   "outputs": [
    {
     "name": "stdout",
     "output_type": "stream",
     "text": [
      "Model: \"sequential\"\n",
      "_________________________________________________________________\n",
      " Layer (type)                Output Shape              Param #   \n",
      "=================================================================\n",
      " zero_padding2d (ZeroPadding  (None, 70, 70, 3)        0         \n",
      " 2D)                                                             \n",
      "                                                                 \n",
      " conv2d (Conv2D)             (None, 64, 64, 32)        4736      \n",
      "                                                                 \n",
      " batch_normalization (BatchN  (None, 64, 64, 32)       128       \n",
      " ormalization)                                                   \n",
      "                                                                 \n",
      " re_lu (ReLU)                (None, 64, 64, 32)        0         \n",
      "                                                                 \n",
      " max_pooling2d (MaxPooling2D  (None, 32, 32, 32)       0         \n",
      " )                                                               \n",
      "                                                                 \n",
      " flatten (Flatten)           (None, 32768)             0         \n",
      "                                                                 \n",
      " dense (Dense)               (None, 1)                 32769     \n",
      "                                                                 \n",
      "=================================================================\n",
      "Total params: 37,633\n",
      "Trainable params: 37,569\n",
      "Non-trainable params: 64\n",
      "_________________________________________________________________\n"
     ]
    }
   ],
   "source": [
    "happy_model.summary()"
   ]
  },
  {
   "cell_type": "markdown",
   "metadata": {},
   "source": [
    "<a name='3-2'></a>\n",
    "### 3.2 - Train and Evaluate the Model\n",
    "\n",
    "After creating the model, compiling it with your choice of optimizer and loss function, and doing a sanity check on its contents, you are now ready to build! \n",
    "\n",
    "Simply call `.fit()` to train. That's it! No need for mini-batching, saving, or complex backpropagation computations. That's all been done for you, as you're using a TensorFlow dataset with the batches specified already. You do have the option to specify epoch number or minibatch size if you like (for example, in the case of an un-batched dataset)."
   ]
  },
  {
   "cell_type": "code",
   "execution_count": 10,
   "metadata": {},
   "outputs": [
    {
     "name": "stdout",
     "output_type": "stream",
     "text": [
      "Epoch 1/10\n",
      "38/38 [==============================] - 15s 17ms/step - loss: 1.7243 - accuracy: 0.6417\n",
      "Epoch 2/10\n",
      "38/38 [==============================] - 0s 11ms/step - loss: 0.2412 - accuracy: 0.8900\n",
      "Epoch 3/10\n",
      "38/38 [==============================] - 0s 11ms/step - loss: 0.1556 - accuracy: 0.9433\n",
      "Epoch 4/10\n",
      "38/38 [==============================] - 0s 10ms/step - loss: 0.1195 - accuracy: 0.9600\n",
      "Epoch 5/10\n",
      "38/38 [==============================] - 0s 12ms/step - loss: 0.1011 - accuracy: 0.9600\n",
      "Epoch 6/10\n",
      "38/38 [==============================] - 0s 11ms/step - loss: 0.1012 - accuracy: 0.9633\n",
      "Epoch 7/10\n",
      "38/38 [==============================] - 0s 8ms/step - loss: 0.1170 - accuracy: 0.9533\n",
      "Epoch 8/10\n",
      "38/38 [==============================] - 0s 9ms/step - loss: 0.1468 - accuracy: 0.9450\n",
      "Epoch 9/10\n",
      "38/38 [==============================] - 0s 10ms/step - loss: 0.0958 - accuracy: 0.9650\n",
      "Epoch 10/10\n",
      "38/38 [==============================] - 0s 8ms/step - loss: 0.0656 - accuracy: 0.9833\n"
     ]
    },
    {
     "data": {
      "text/plain": [
       "<keras.callbacks.History at 0x2c704c05d60>"
      ]
     },
     "execution_count": 10,
     "metadata": {},
     "output_type": "execute_result"
    }
   ],
   "source": [
    "happy_model.fit(X_train, Y_train, epochs=10, batch_size=16)"
   ]
  },
  {
   "cell_type": "markdown",
   "metadata": {},
   "source": [
    "After that completes, just use `.evaluate()` to evaluate against your test set. This function will print the value of the loss function and the performance metrics specified during the compilation of the model. In this case, the `binary_crossentropy` and the `accuracy` respectively."
   ]
  },
  {
   "cell_type": "code",
   "execution_count": 11,
   "metadata": {},
   "outputs": [
    {
     "name": "stdout",
     "output_type": "stream",
     "text": [
      "5/5 [==============================] - 1s 21ms/step - loss: 0.1576 - accuracy: 0.9267\n"
     ]
    },
    {
     "data": {
      "text/plain": [
       "[0.15762154757976532, 0.9266666769981384]"
      ]
     },
     "execution_count": 11,
     "metadata": {},
     "output_type": "execute_result"
    }
   ],
   "source": [
    "happy_model.evaluate(X_test, Y_test)"
   ]
  },
  {
   "cell_type": "markdown",
   "metadata": {},
   "source": [
    "Easy, right? But what if you need to build a model with shared layers, branches, or multiple inputs and outputs? This is where Sequential, with its beautifully simple yet limited functionality, won't be able to help you. \n",
    "\n",
    "Next up: Enter the Functional API, your slightly more complex, highly flexible friend.  "
   ]
  },
  {
   "cell_type": "markdown",
   "metadata": {},
   "source": [
    "<a name='4'></a>\n",
    "## 4 - The Functional API"
   ]
  },
  {
   "cell_type": "markdown",
   "metadata": {},
   "source": [
    "Welcome to the second half of the assignment, where you'll use Keras' flexible [Functional API](https://www.tensorflow.org/guide/keras/functional) to build a ConvNet that can differentiate between 6 sign language digits. \n",
    "\n",
    "The Functional API can handle models with non-linear topology, shared layers, as well as layers with multiple inputs or outputs. Imagine that, where the Sequential API requires the model to move in a linear fashion through its layers, the Functional API allows much more flexibility. Where Sequential is a straight line, a Functional model is a graph, where the nodes of the layers can connect in many more ways than one. \n",
    "\n",
    "In the visual example below, the one possible direction of the movement Sequential model is shown in contrast to a skip connection, which is just one of the many ways a Functional model can be constructed. A skip connection, as you might have guessed, skips some layer in the network and feeds the output to a later layer in the network. Don't worry, you'll be spending more time with skip connections very soon! "
   ]
  },
  {
   "cell_type": "markdown",
   "metadata": {},
   "source": [
    "<img src=\"images/seq_vs_func.png\" style=\"width:350px;height:200px;\">"
   ]
  },
  {
   "cell_type": "markdown",
   "metadata": {},
   "source": [
    "<a name='4-1'></a>\n",
    "### 4.1 - Load the SIGNS Dataset\n",
    "\n",
    "As a reminder, the SIGNS dataset is a collection of 6 signs representing numbers from 0 to 5."
   ]
  },
  {
   "cell_type": "code",
   "execution_count": 12,
   "metadata": {},
   "outputs": [],
   "source": [
    "# Loading the data (signs)\n",
    "X_train_orig, Y_train_orig, X_test_orig, Y_test_orig, classes = load_signs_dataset()"
   ]
  },
  {
   "cell_type": "markdown",
   "metadata": {},
   "source": [
    "<img src=\"images/SIGNS.png\" style=\"width:800px;height:300px;\">\n",
    "\n",
    "The next cell will show you an example of a labelled image in the dataset. Feel free to change the value of `index` below and re-run to see different examples. "
   ]
  },
  {
   "cell_type": "code",
   "execution_count": 13,
   "metadata": {},
   "outputs": [
    {
     "name": "stdout",
     "output_type": "stream",
     "text": [
      "y = 4\n"
     ]
    },
    {
     "data": {
      "image/png": "[encoded data removed]",
      "text/plain": [
       "<Figure size 432x288 with 1 Axes>"
      ]
     },
     "metadata": {
      "needs_background": "light"
     },
     "output_type": "display_data"
    }
   ],
   "source": [
    "# Example of an image from the dataset\n",
    "index = 9\n",
    "plt.imshow(X_train_orig[index])\n",
    "print (\"y = \" + str(np.squeeze(Y_train_orig[:, index])))"
   ]
  },
  {
   "cell_type": "markdown",
   "metadata": {},
   "source": [
    "<a name='4-2'></a>\n",
    "### 4.2 - Split the Data into Train/Test Sets\n",
    "\n",
    "In Course 2, you built a fully-connected network for this dataset. But since this is an image dataset, it is more natural to apply a ConvNet to it.\n",
    "\n",
    "To get started, let's examine the shapes of your data. "
   ]
  },
  {
   "cell_type": "code",
   "execution_count": 14,
   "metadata": {},
   "outputs": [
    {
     "name": "stdout",
     "output_type": "stream",
     "text": [
      "number of training examples = 1080\n",
      "number of test examples = 120\n",
      "X_train shape: (1080, 64, 64, 3)\n",
      "Y_train shape: (1080, 6)\n",
      "X_test shape: (120, 64, 64, 3)\n",
      "Y_test shape: (120, 6)\n"
     ]
    }
   ],
   "source": [
    "X_train = X_train_orig/255.\n",
    "X_test = X_test_orig/255.\n",
    "Y_train = convert_to_one_hot(Y_train_orig, 6).T\n",
    "Y_test = convert_to_one_hot(Y_test_orig, 6).T\n",
    "print (\"number of training examples = \" + str(X_train.shape[0]))\n",
    "print (\"number of test examples = \" + str(X_test.shape[0]))\n",
    "print (\"X_train shape: \" + str(X_train.shape))\n",
    "print (\"Y_train shape: \" + str(Y_train.shape))\n",
    "print (\"X_test shape: \" + str(X_test.shape))\n",
    "print (\"Y_test shape: \" + str(Y_test.shape))"
   ]
  },
  {
   "cell_type": "markdown",
   "metadata": {},
   "source": [
    "<a name='4-3'></a>\n",
    "### 4.3 - Forward Propagation\n",
    "\n",
    "In TensorFlow, there are built-in functions that implement the convolution steps for you. By now, you should be familiar with how TensorFlow builds computational graphs. In the [Functional API](https://www.tensorflow.org/guide/keras/functional), you create a graph of layers. This is what allows such great flexibility.\n",
    "\n",
    "However, the following model could also be defined using the Sequential API since the information flow is on a single line. But don't deviate. What we want you to learn is to use the functional API.\n",
    "\n",
    "Begin building your graph of layers by creating an input node that functions as a callable object:\n",
    "\n",
    "- **input_img = tf.keras.Input(shape=input_shape):** \n",
    "\n",
    "Then, create a new node in the graph of layers by calling a layer on the `input_img` object: \n",
    "\n",
    "- **tf.keras.layers.Conv2D(filters= ... , kernel_size= ... , padding='same')(input_img):** Read the full documentation on [Conv2D](https://www.tensorflow.org/api_docs/python/tf/keras/layers/Conv2D).\n",
    "\n",
    "- **tf.keras.layers.MaxPool2D(pool_size=(f, f), strides=(s, s), padding='same'):** `MaxPool2D()` downsamples your input using a window of size (f, f) and strides of size (s, s) to carry out max pooling over each window.  For max pooling, you usually operate on a single example at a time and a single channel at a time. Read the full documentation on [MaxPool2D](https://www.tensorflow.org/api_docs/python/tf/keras/layers/MaxPool2D).\n",
    "\n",
    "- **tf.keras.layers.ReLU():** computes the elementwise ReLU of Z (which can be any shape). You can read the full documentation on [ReLU](https://www.tensorflow.org/api_docs/python/tf/keras/layers/ReLU).\n",
    "\n",
    "- **tf.keras.layers.Flatten()**: given a tensor \"P\", this function takes each training (or test) example in the batch and flattens it into a 1D vector.  \n",
    "\n",
    "    * If a tensor P has the shape (batch_size,h,w,c), it returns a flattened tensor with shape (batch_size, k), where $k=h \\times w \\times c$.  \"k\" equals the product of all the dimension sizes other than the first dimension.\n",
    "    \n",
    "    * For example, given a tensor with dimensions [100, 2, 3, 4], it flattens the tensor to be of shape [100, 24], where 24 = 2 * 3 * 4.  You can read the full documentation on [Flatten](https://www.tensorflow.org/api_docs/python/tf/keras/layers/Flatten).\n",
    "\n",
    "- **tf.keras.layers.Dense(units= ... , activation='softmax')(F):** given the flattened input F, it returns the output computed using a fully connected layer. You can read the full documentation on [Dense](https://www.tensorflow.org/api_docs/python/tf/keras/layers/Dense).\n",
    "\n",
    "In the last function above (`tf.keras.layers.Dense()`), the fully connected layer automatically initializes weights in the graph and keeps on training them as you train the model. Hence, you did not need to initialize those weights when initializing the parameters.\n",
    "\n",
    "Lastly, before creating the model, you'll need to define the output using the last of the function's compositions (in this example, a Dense layer): \n",
    "\n",
    "- **outputs = tf.keras.layers.Dense(units=6, activation='softmax')(F)**\n",
    "\n",
    "\n",
    "#### Window, kernel, filter, pool\n",
    "\n",
    "The words \"kernel\" and \"filter\" are used to refer to the same thing. The word \"filter\" accounts for the amount of \"kernels\" that will be used in a single convolution layer. \"Pool\" is the name of the operation that takes the max or average value of the kernels. \n",
    "\n",
    "This is why the parameter `pool_size` refers to `kernel_size`, and you use `(f,f)` to refer to the filter size. \n",
    "\n",
    "Pool size and kernel size refer to the same thing in different objects - They refer to the shape of the window where the operation takes place. "
   ]
  },
  {
   "cell_type": "markdown",
   "metadata": {},
   "source": [
    "<a name='ex-2'></a>\n",
    "### Exercise 2 - convolutional_model\n",
    "\n",
    "Implement the `convolutional_model` function below to build the following model: `CONV2D -> RELU -> MAXPOOL -> CONV2D -> RELU -> MAXPOOL -> FLATTEN -> DENSE`. Use the functions above! \n",
    "\n",
    "Also, plug in the following parameters for all the steps:\n",
    "\n",
    " - [Conv2D](https://www.tensorflow.org/api_docs/python/tf/keras/layers/Conv2D): Use 8 4 by 4 filters, stride 1, padding is \"SAME\"\n",
    " - [ReLU](https://www.tensorflow.org/api_docs/python/tf/keras/layers/ReLU)\n",
    " - [MaxPool2D](https://www.tensorflow.org/api_docs/python/tf/keras/layers/MaxPool2D): Use an 8 by 8 filter size and an 8 by 8 stride, padding is \"SAME\"\n",
    " - **Conv2D**: Use 16 2 by 2 filters, stride 1, padding is \"SAME\"\n",
    " - **ReLU**\n",
    " - **MaxPool2D**: Use a 4 by 4 filter size and a 4 by 4 stride, padding is \"SAME\"\n",
    " - [Flatten](https://www.tensorflow.org/api_docs/python/tf/keras/layers/Flatten) the previous output.\n",
    " - Fully-connected ([Dense](https://www.tensorflow.org/api_docs/python/tf/keras/layers/Dense)) layer: Apply a fully connected layer with 6 neurons and a softmax activation. "
   ]
  },
  {
   "cell_type": "code",
   "execution_count": 15,
   "metadata": {
    "deletable": false,
    "nbgrader": {
     "cell_type": "code",
     "checksum": "f58643806aa8380c96225fc8b4c5e7aa",
     "grade": false,
     "grade_id": "cell-dac51744a9e03f51",
     "locked": false,
     "schema_version": 3,
     "solution": true,
     "task": false
    }
   },
   "outputs": [],
   "source": [
    "# GRADED FUNCTION: convolutional_model\n",
    "\n",
    "def convolutional_model(input_shape):\n",
    "    \"\"\"\n",
    "    Implements the forward propagation for the model:\n",
    "    CONV2D -> RELU -> MAXPOOL -> CONV2D -> RELU -> MAXPOOL -> FLATTEN -> DENSE\n",
    "    \n",
    "    Note that for simplicity and grading purposes, you'll hard-code some values\n",
    "    such as the stride and kernel (filter) sizes. \n",
    "    Normally, functions should take these values as function parameters.\n",
    "    \n",
    "    Arguments:\n",
    "    input_img -- input dataset, of shape (input_shape)\n",
    "\n",
    "    Returns:\n",
    "    model -- TF Keras model (object containing the information for the entire training process) \n",
    "    \"\"\"\n",
    "\n",
    "    input_img = tf.keras.Input(shape=input_shape)\n",
    "    ## CONV2D: 8 filters 4x4, stride of 1, padding 'SAME'\n",
    "    Z1 = tfl.Conv2D(filters= 8. , kernel_size=4 , padding='same',strides=1)(input_img)\n",
    "    ## RELU\n",
    "    A1 = tfl.ReLU()(Z1)\n",
    "    ## MAXPOOL: window 8x8, stride 8, padding 'SAME'\n",
    "    P1 = tfl.MaxPool2D(pool_size=8, strides=8, padding='SAME')(A1)\n",
    "    ## CONV2D: 16 filters 2x2, stride 1, padding 'SAME'\n",
    "    Z2 = tfl.Conv2D(filters= 16. , kernel_size=2 , padding='same',strides=1)(P1)\n",
    "    ## RELU\n",
    "    A2 =  tfl.ReLU()(Z2)\n",
    "    ## MAXPOOL: window 4x4, stride 4, padding 'SAME'\n",
    "    P2 = tfl.MaxPool2D(pool_size=4, strides=4, padding='SAME')(A2)\n",
    "    ## FLATTEN\n",
    "    F = tfl.Flatten()(P2)\n",
    "    ## Dense layer\n",
    "    ## 6 neurons in output layer. Hint: one of the arguments should be \"activation='softmax'\" \n",
    "    outputs = tfl.Dense(units= 6 , activation='softmax')(F)\n",
    "    model = tf.keras.Model(inputs=input_img, outputs=outputs)\n",
    "    return model"
   ]
  },
  {
   "cell_type": "code",
   "execution_count": 16,
   "metadata": {
    "deletable": false,
    "editable": false,
    "nbgrader": {
     "cell_type": "code",
     "checksum": "483d626949930a0b0ef20997e7c6ba72",
     "grade": true,
     "grade_id": "cell-45d22e92042174c9",
     "locked": true,
     "points": 10,
     "schema_version": 3,
     "solution": false,
     "task": false
    }
   },
   "outputs": [
    {
     "name": "stdout",
     "output_type": "stream",
     "text": [
      "Model: \"model\"\n",
      "_________________________________________________________________\n",
      " Layer (type)                Output Shape              Param #   \n",
      "=================================================================\n",
      " input_2 (InputLayer)        [(None, 64, 64, 3)]       0         \n",
      "                                                                 \n",
      " conv2d_1 (Conv2D)           (None, 64, 64, 8)         392       \n",
      "                                                                 \n",
      " re_lu_1 (ReLU)              (None, 64, 64, 8)         0         \n",
      "                                                                 \n",
      " max_pooling2d_1 (MaxPooling  (None, 8, 8, 8)          0         \n",
      " 2D)                                                             \n",
      "                                                                 \n",
      " conv2d_2 (Conv2D)           (None, 8, 8, 16)          528       \n",
      "                                                                 \n",
      " re_lu_2 (ReLU)              (None, 8, 8, 16)          0         \n",
      "                                                                 \n",
      " max_pooling2d_2 (MaxPooling  (None, 2, 2, 16)         0         \n",
      " 2D)                                                             \n",
      "                                                                 \n",
      " flatten_1 (Flatten)         (None, 64)                0         \n",
      "                                                                 \n",
      " dense_1 (Dense)             (None, 6)                 390       \n",
      "                                                                 \n",
      "=================================================================\n",
      "Total params: 1,310\n",
      "Trainable params: 1,310\n",
      "Non-trainable params: 0\n",
      "_________________________________________________________________\n",
      "\u001b[32mAll tests passed!\u001b[0m\n"
     ]
    }
   ],
   "source": [
    "conv_model = convolutional_model((64, 64, 3))\n",
    "conv_model.compile(optimizer='adam',\n",
    "                  loss='categorical_crossentropy',\n",
    "                  metrics=['accuracy'])\n",
    "conv_model.summary()\n",
    "    \n",
    "output = [['InputLayer', [(None, 64, 64, 3)], 0],\n",
    "        ['Conv2D', (None, 64, 64, 8), 392, 'same', 'linear', 'GlorotUniform'],\n",
    "        ['ReLU', (None, 64, 64, 8), 0],\n",
    "        ['MaxPooling2D', (None, 8, 8, 8), 0, (8, 8), (8, 8), 'same'],\n",
    "        ['Conv2D', (None, 8, 8, 16), 528, 'same', 'linear', 'GlorotUniform'],\n",
    "        ['ReLU', (None, 8, 8, 16), 0],\n",
    "        ['MaxPooling2D', (None, 2, 2, 16), 0, (4, 4), (4, 4), 'same'],\n",
    "        ['Flatten', (None, 64), 0],\n",
    "        ['Dense', (None, 6), 390, 'softmax']]\n",
    "    \n",
    "comparator(summary(conv_model), output)"
   ]
  },
  {
   "cell_type": "markdown",
   "metadata": {},
   "source": [
    "Both the Sequential and Functional APIs return a TF Keras model object. The only difference is how inputs are handled inside the object model! "
   ]
  },
  {
   "cell_type": "markdown",
   "metadata": {},
   "source": [
    "<a name='4-4'></a>\n",
    "### 4.4 - Train the Model"
   ]
  },
  {
   "cell_type": "code",
   "execution_count": 17,
   "metadata": {},
   "outputs": [
    {
     "name": "stdout",
     "output_type": "stream",
     "text": [
      "Epoch 1/100\n",
      "17/17 [==============================] - 3s 65ms/step - loss: 1.9585 - accuracy: 0.1667 - val_loss: 1.8192 - val_accuracy: 0.1667\n",
      "Epoch 2/100\n",
      "17/17 [==============================] - 1s 37ms/step - loss: 1.8036 - accuracy: 0.1685 - val_loss: 1.7908 - val_accuracy: 0.1583\n",
      "Epoch 3/100\n",
      "17/17 [==============================] - 1s 36ms/step - loss: 1.7909 - accuracy: 0.1639 - val_loss: 1.7889 - val_accuracy: 0.1583\n",
      "Epoch 4/100\n",
      "17/17 [==============================] - 0s 24ms/step - loss: 1.7867 - accuracy: 0.1704 - val_loss: 1.7863 - val_accuracy: 0.2167\n",
      "Epoch 5/100\n",
      "17/17 [==============================] - 1s 30ms/step - loss: 1.7843 - accuracy: 0.2389 - val_loss: 1.7843 - val_accuracy: 0.1750\n",
      "Epoch 6/100\n",
      "17/17 [==============================] - 1s 39ms/step - loss: 1.7814 - accuracy: 0.2407 - val_loss: 1.7819 - val_accuracy: 0.2333\n",
      "Epoch 7/100\n",
      "17/17 [==============================] - 0s 26ms/step - loss: 1.7786 - accuracy: 0.2565 - val_loss: 1.7800 - val_accuracy: 0.2583\n",
      "Epoch 8/100\n",
      "17/17 [==============================] - 0s 26ms/step - loss: 1.7749 - accuracy: 0.2833 - val_loss: 1.7764 - val_accuracy: 0.2750\n",
      "Epoch 9/100\n",
      "17/17 [==============================] - 1s 36ms/step - loss: 1.7709 - accuracy: 0.2926 - val_loss: 1.7722 - val_accuracy: 0.3083\n",
      "Epoch 10/100\n",
      "17/17 [==============================] - 1s 35ms/step - loss: 1.7661 - accuracy: 0.3102 - val_loss: 1.7673 - val_accuracy: 0.3500\n",
      "Epoch 11/100\n",
      "17/17 [==============================] - 1s 35ms/step - loss: 1.7596 - accuracy: 0.3361 - val_loss: 1.7606 - val_accuracy: 0.3833\n",
      "Epoch 12/100\n",
      "17/17 [==============================] - 0s 23ms/step - loss: 1.7518 - accuracy: 0.3454 - val_loss: 1.7521 - val_accuracy: 0.3667\n",
      "Epoch 13/100\n",
      "17/17 [==============================] - 1s 30ms/step - loss: 1.7413 - accuracy: 0.3713 - val_loss: 1.7420 - val_accuracy: 0.3917\n",
      "Epoch 14/100\n",
      "17/17 [==============================] - 1s 33ms/step - loss: 1.7257 - accuracy: 0.3972 - val_loss: 1.7281 - val_accuracy: 0.4167\n",
      "Epoch 15/100\n",
      "17/17 [==============================] - 1s 34ms/step - loss: 1.7063 - accuracy: 0.3843 - val_loss: 1.7086 - val_accuracy: 0.4000\n",
      "Epoch 16/100\n",
      "17/17 [==============================] - 0s 23ms/step - loss: 1.6811 - accuracy: 0.3972 - val_loss: 1.6844 - val_accuracy: 0.4417\n",
      "Epoch 17/100\n",
      "17/17 [==============================] - 0s 21ms/step - loss: 1.6510 - accuracy: 0.3991 - val_loss: 1.6576 - val_accuracy: 0.4417\n",
      "Epoch 18/100\n",
      "17/17 [==============================] - 0s 22ms/step - loss: 1.6178 - accuracy: 0.4213 - val_loss: 1.6298 - val_accuracy: 0.4250\n",
      "Epoch 19/100\n",
      "17/17 [==============================] - 0s 21ms/step - loss: 1.5817 - accuracy: 0.4296 - val_loss: 1.5997 - val_accuracy: 0.4083\n",
      "Epoch 20/100\n",
      "17/17 [==============================] - 0s 25ms/step - loss: 1.5459 - accuracy: 0.4361 - val_loss: 1.5707 - val_accuracy: 0.4000\n",
      "Epoch 21/100\n",
      "17/17 [==============================] - 0s 22ms/step - loss: 1.5123 - accuracy: 0.4435 - val_loss: 1.5428 - val_accuracy: 0.4000\n",
      "Epoch 22/100\n",
      "17/17 [==============================] - 0s 21ms/step - loss: 1.4814 - accuracy: 0.4509 - val_loss: 1.5157 - val_accuracy: 0.4083\n",
      "Epoch 23/100\n",
      "17/17 [==============================] - 0s 24ms/step - loss: 1.4517 - accuracy: 0.4583 - val_loss: 1.4904 - val_accuracy: 0.4333\n",
      "Epoch 24/100\n",
      "17/17 [==============================] - 0s 27ms/step - loss: 1.4246 - accuracy: 0.4648 - val_loss: 1.4662 - val_accuracy: 0.4417\n",
      "Epoch 25/100\n",
      "17/17 [==============================] - 0s 19ms/step - loss: 1.3991 - accuracy: 0.4778 - val_loss: 1.4428 - val_accuracy: 0.4667\n",
      "Epoch 26/100\n",
      "17/17 [==============================] - 0s 24ms/step - loss: 1.3757 - accuracy: 0.4907 - val_loss: 1.4202 - val_accuracy: 0.4833\n",
      "Epoch 27/100\n",
      "17/17 [==============================] - 0s 21ms/step - loss: 1.3530 - accuracy: 0.5019 - val_loss: 1.3979 - val_accuracy: 0.4833\n",
      "Epoch 28/100\n",
      "17/17 [==============================] - 0s 24ms/step - loss: 1.3308 - accuracy: 0.5167 - val_loss: 1.3773 - val_accuracy: 0.5000\n",
      "Epoch 29/100\n",
      "17/17 [==============================] - 0s 26ms/step - loss: 1.3103 - accuracy: 0.5296 - val_loss: 1.3562 - val_accuracy: 0.5333\n",
      "Epoch 30/100\n",
      "17/17 [==============================] - 0s 19ms/step - loss: 1.2895 - accuracy: 0.5380 - val_loss: 1.3369 - val_accuracy: 0.5417\n",
      "Epoch 31/100\n",
      "17/17 [==============================] - 0s 23ms/step - loss: 1.2701 - accuracy: 0.5546 - val_loss: 1.3178 - val_accuracy: 0.5417\n",
      "Epoch 32/100\n",
      "17/17 [==============================] - 0s 25ms/step - loss: 1.2510 - accuracy: 0.5657 - val_loss: 1.2992 - val_accuracy: 0.5417\n",
      "Epoch 33/100\n",
      "17/17 [==============================] - 0s 18ms/step - loss: 1.2324 - accuracy: 0.5750 - val_loss: 1.2804 - val_accuracy: 0.5500\n",
      "Epoch 34/100\n",
      "17/17 [==============================] - 0s 18ms/step - loss: 1.2130 - accuracy: 0.5843 - val_loss: 1.2634 - val_accuracy: 0.5667\n",
      "Epoch 35/100\n",
      "17/17 [==============================] - 0s 23ms/step - loss: 1.1927 - accuracy: 0.6000 - val_loss: 1.2434 - val_accuracy: 0.5917\n",
      "Epoch 36/100\n",
      "17/17 [==============================] - 0s 25ms/step - loss: 1.1728 - accuracy: 0.6065 - val_loss: 1.2248 - val_accuracy: 0.5750\n",
      "Epoch 37/100\n",
      "17/17 [==============================] - 0s 27ms/step - loss: 1.1535 - accuracy: 0.6157 - val_loss: 1.2078 - val_accuracy: 0.5833\n",
      "Epoch 38/100\n",
      "17/17 [==============================] - 0s 20ms/step - loss: 1.1356 - accuracy: 0.6278 - val_loss: 1.1913 - val_accuracy: 0.5917\n",
      "Epoch 39/100\n",
      "17/17 [==============================] - 0s 19ms/step - loss: 1.1182 - accuracy: 0.6380 - val_loss: 1.1746 - val_accuracy: 0.6000\n",
      "Epoch 40/100\n",
      "17/17 [==============================] - 0s 26ms/step - loss: 1.1008 - accuracy: 0.6435 - val_loss: 1.1586 - val_accuracy: 0.6000\n",
      "Epoch 41/100\n",
      "17/17 [==============================] - 0s 22ms/step - loss: 1.0840 - accuracy: 0.6481 - val_loss: 1.1424 - val_accuracy: 0.6083\n",
      "Epoch 42/100\n",
      "17/17 [==============================] - 0s 29ms/step - loss: 1.0677 - accuracy: 0.6528 - val_loss: 1.1266 - val_accuracy: 0.6000\n",
      "Epoch 43/100\n",
      "17/17 [==============================] - 0s 22ms/step - loss: 1.0510 - accuracy: 0.6593 - val_loss: 1.1108 - val_accuracy: 0.6167\n",
      "Epoch 44/100\n",
      "17/17 [==============================] - 0s 25ms/step - loss: 1.0345 - accuracy: 0.6630 - val_loss: 1.0961 - val_accuracy: 0.6333\n",
      "Epoch 45/100\n",
      "17/17 [==============================] - 1s 58ms/step - loss: 1.0175 - accuracy: 0.6722 - val_loss: 1.0810 - val_accuracy: 0.6333\n",
      "Epoch 46/100\n",
      "17/17 [==============================] - 1s 42ms/step - loss: 1.0020 - accuracy: 0.6806 - val_loss: 1.0667 - val_accuracy: 0.6333\n",
      "Epoch 47/100\n",
      "17/17 [==============================] - 1s 47ms/step - loss: 0.9864 - accuracy: 0.6861 - val_loss: 1.0526 - val_accuracy: 0.6250\n",
      "Epoch 48/100\n",
      "17/17 [==============================] - 1s 39ms/step - loss: 0.9713 - accuracy: 0.6935 - val_loss: 1.0395 - val_accuracy: 0.6250\n",
      "Epoch 49/100\n",
      "17/17 [==============================] - 1s 40ms/step - loss: 0.9569 - accuracy: 0.7028 - val_loss: 1.0276 - val_accuracy: 0.6250\n",
      "Epoch 50/100\n",
      "17/17 [==============================] - 0s 27ms/step - loss: 0.9424 - accuracy: 0.7093 - val_loss: 1.0145 - val_accuracy: 0.6333\n",
      "Epoch 51/100\n",
      "17/17 [==============================] - 0s 25ms/step - loss: 0.9288 - accuracy: 0.7102 - val_loss: 1.0018 - val_accuracy: 0.6250\n",
      "Epoch 52/100\n",
      "17/17 [==============================] - 0s 22ms/step - loss: 0.9151 - accuracy: 0.7194 - val_loss: 0.9889 - val_accuracy: 0.6250\n",
      "Epoch 53/100\n",
      "17/17 [==============================] - 0s 29ms/step - loss: 0.9017 - accuracy: 0.7231 - val_loss: 0.9781 - val_accuracy: 0.6333\n",
      "Epoch 54/100\n",
      "17/17 [==============================] - 1s 30ms/step - loss: 0.8887 - accuracy: 0.7259 - val_loss: 0.9653 - val_accuracy: 0.6333\n",
      "Epoch 55/100\n",
      "17/17 [==============================] - 0s 23ms/step - loss: 0.8758 - accuracy: 0.7250 - val_loss: 0.9545 - val_accuracy: 0.6333\n",
      "Epoch 56/100\n",
      "17/17 [==============================] - 1s 30ms/step - loss: 0.8635 - accuracy: 0.7278 - val_loss: 0.9417 - val_accuracy: 0.6333\n",
      "Epoch 57/100\n",
      "17/17 [==============================] - 1s 30ms/step - loss: 0.8515 - accuracy: 0.7296 - val_loss: 0.9249 - val_accuracy: 0.6333\n",
      "Epoch 58/100\n",
      "17/17 [==============================] - 0s 22ms/step - loss: 0.8351 - accuracy: 0.7287 - val_loss: 0.9031 - val_accuracy: 0.6500\n",
      "Epoch 59/100\n",
      "17/17 [==============================] - 0s 22ms/step - loss: 0.8188 - accuracy: 0.7398 - val_loss: 0.8853 - val_accuracy: 0.6500\n",
      "Epoch 60/100\n",
      "17/17 [==============================] - 0s 22ms/step - loss: 0.8036 - accuracy: 0.7472 - val_loss: 0.8669 - val_accuracy: 0.6833\n",
      "Epoch 61/100\n",
      "17/17 [==============================] - 0s 20ms/step - loss: 0.7881 - accuracy: 0.7537 - val_loss: 0.8504 - val_accuracy: 0.6917\n",
      "Epoch 62/100\n",
      "17/17 [==============================] - 0s 23ms/step - loss: 0.7719 - accuracy: 0.7704 - val_loss: 0.8336 - val_accuracy: 0.6917\n",
      "Epoch 63/100\n",
      "17/17 [==============================] - 0s 26ms/step - loss: 0.7565 - accuracy: 0.7769 - val_loss: 0.8183 - val_accuracy: 0.6833\n",
      "Epoch 64/100\n",
      "17/17 [==============================] - 0s 25ms/step - loss: 0.7425 - accuracy: 0.7778 - val_loss: 0.8058 - val_accuracy: 0.7000\n",
      "Epoch 65/100\n",
      "17/17 [==============================] - 0s 26ms/step - loss: 0.7296 - accuracy: 0.7870 - val_loss: 0.7942 - val_accuracy: 0.7000\n",
      "Epoch 66/100\n",
      "17/17 [==============================] - 0s 23ms/step - loss: 0.7170 - accuracy: 0.7880 - val_loss: 0.7836 - val_accuracy: 0.7000\n",
      "Epoch 67/100\n",
      "17/17 [==============================] - 0s 22ms/step - loss: 0.7049 - accuracy: 0.7926 - val_loss: 0.7732 - val_accuracy: 0.6917\n",
      "Epoch 68/100\n",
      "17/17 [==============================] - 0s 23ms/step - loss: 0.6940 - accuracy: 0.7935 - val_loss: 0.7630 - val_accuracy: 0.6917\n",
      "Epoch 69/100\n",
      "17/17 [==============================] - 0s 26ms/step - loss: 0.6827 - accuracy: 0.7954 - val_loss: 0.7532 - val_accuracy: 0.6917\n",
      "Epoch 70/100\n",
      "17/17 [==============================] - 0s 27ms/step - loss: 0.6716 - accuracy: 0.7963 - val_loss: 0.7434 - val_accuracy: 0.7083\n",
      "Epoch 71/100\n",
      "17/17 [==============================] - 0s 25ms/step - loss: 0.6614 - accuracy: 0.8028 - val_loss: 0.7310 - val_accuracy: 0.7167\n",
      "Epoch 72/100\n",
      "17/17 [==============================] - 0s 26ms/step - loss: 0.6506 - accuracy: 0.8046 - val_loss: 0.7233 - val_accuracy: 0.7333\n",
      "Epoch 73/100\n",
      "17/17 [==============================] - 0s 25ms/step - loss: 0.6411 - accuracy: 0.8037 - val_loss: 0.7137 - val_accuracy: 0.7417\n",
      "Epoch 74/100\n",
      "17/17 [==============================] - 0s 22ms/step - loss: 0.6320 - accuracy: 0.8046 - val_loss: 0.7044 - val_accuracy: 0.7500\n",
      "Epoch 75/100\n",
      "17/17 [==============================] - 0s 22ms/step - loss: 0.6230 - accuracy: 0.8111 - val_loss: 0.6954 - val_accuracy: 0.7500\n",
      "Epoch 76/100\n",
      "17/17 [==============================] - 0s 25ms/step - loss: 0.6138 - accuracy: 0.8130 - val_loss: 0.6874 - val_accuracy: 0.7583\n",
      "Epoch 77/100\n",
      "17/17 [==============================] - 0s 23ms/step - loss: 0.6055 - accuracy: 0.8111 - val_loss: 0.6803 - val_accuracy: 0.7667\n",
      "Epoch 78/100\n",
      "17/17 [==============================] - 0s 24ms/step - loss: 0.5969 - accuracy: 0.8102 - val_loss: 0.6729 - val_accuracy: 0.7667\n",
      "Epoch 79/100\n",
      "17/17 [==============================] - 0s 20ms/step - loss: 0.5891 - accuracy: 0.8120 - val_loss: 0.6665 - val_accuracy: 0.7667\n",
      "Epoch 80/100\n",
      "17/17 [==============================] - 0s 25ms/step - loss: 0.5814 - accuracy: 0.8148 - val_loss: 0.6599 - val_accuracy: 0.7667\n",
      "Epoch 81/100\n",
      "17/17 [==============================] - 0s 24ms/step - loss: 0.5740 - accuracy: 0.8139 - val_loss: 0.6542 - val_accuracy: 0.7750\n",
      "Epoch 82/100\n",
      "17/17 [==============================] - 0s 19ms/step - loss: 0.5667 - accuracy: 0.8185 - val_loss: 0.6483 - val_accuracy: 0.7750\n",
      "Epoch 83/100\n",
      "17/17 [==============================] - 0s 20ms/step - loss: 0.5598 - accuracy: 0.8204 - val_loss: 0.6427 - val_accuracy: 0.7750\n",
      "Epoch 84/100\n",
      "17/17 [==============================] - 0s 21ms/step - loss: 0.5535 - accuracy: 0.8241 - val_loss: 0.6377 - val_accuracy: 0.7750\n",
      "Epoch 85/100\n",
      "17/17 [==============================] - 0s 23ms/step - loss: 0.5468 - accuracy: 0.8269 - val_loss: 0.6321 - val_accuracy: 0.7750\n",
      "Epoch 86/100\n",
      "17/17 [==============================] - 0s 20ms/step - loss: 0.5403 - accuracy: 0.8287 - val_loss: 0.6267 - val_accuracy: 0.7750\n",
      "Epoch 87/100\n",
      "17/17 [==============================] - 0s 21ms/step - loss: 0.5347 - accuracy: 0.8333 - val_loss: 0.6222 - val_accuracy: 0.7750\n",
      "Epoch 88/100\n",
      "17/17 [==============================] - 0s 23ms/step - loss: 0.5283 - accuracy: 0.8352 - val_loss: 0.6163 - val_accuracy: 0.7750\n",
      "Epoch 89/100\n",
      "17/17 [==============================] - 0s 21ms/step - loss: 0.5233 - accuracy: 0.8352 - val_loss: 0.6129 - val_accuracy: 0.7750\n",
      "Epoch 90/100\n",
      "17/17 [==============================] - 0s 24ms/step - loss: 0.5166 - accuracy: 0.8380 - val_loss: 0.6070 - val_accuracy: 0.7750\n",
      "Epoch 91/100\n",
      "17/17 [==============================] - 0s 23ms/step - loss: 0.5120 - accuracy: 0.8361 - val_loss: 0.6040 - val_accuracy: 0.7750\n",
      "Epoch 92/100\n",
      "17/17 [==============================] - 0s 21ms/step - loss: 0.5055 - accuracy: 0.8389 - val_loss: 0.5986 - val_accuracy: 0.7750\n",
      "Epoch 93/100\n",
      "17/17 [==============================] - 0s 20ms/step - loss: 0.5010 - accuracy: 0.8389 - val_loss: 0.5957 - val_accuracy: 0.7750\n",
      "Epoch 94/100\n",
      "17/17 [==============================] - 0s 18ms/step - loss: 0.4950 - accuracy: 0.8417 - val_loss: 0.5916 - val_accuracy: 0.7750\n",
      "Epoch 95/100\n",
      "17/17 [==============================] - 0s 18ms/step - loss: 0.4906 - accuracy: 0.8454 - val_loss: 0.5878 - val_accuracy: 0.7750\n",
      "Epoch 96/100\n",
      "17/17 [==============================] - 0s 18ms/step - loss: 0.4856 - accuracy: 0.8463 - val_loss: 0.5831 - val_accuracy: 0.7750\n",
      "Epoch 97/100\n",
      "17/17 [==============================] - 0s 20ms/step - loss: 0.4811 - accuracy: 0.8472 - val_loss: 0.5794 - val_accuracy: 0.7750\n",
      "Epoch 98/100\n",
      "17/17 [==============================] - 0s 18ms/step - loss: 0.4761 - accuracy: 0.8481 - val_loss: 0.5752 - val_accuracy: 0.7667\n",
      "Epoch 99/100\n",
      "17/17 [==============================] - 0s 17ms/step - loss: 0.4716 - accuracy: 0.8491 - val_loss: 0.5716 - val_accuracy: 0.7750\n",
      "Epoch 100/100\n",
      "17/17 [==============================] - 0s 18ms/step - loss: 0.4671 - accuracy: 0.8500 - val_loss: 0.5684 - val_accuracy: 0.7750\n"
     ]
    }
   ],
   "source": [
    "train_dataset = tf.data.Dataset.from_tensor_slices((X_train, Y_train)).batch(64)\n",
    "test_dataset = tf.data.Dataset.from_tensor_slices((X_test, Y_test)).batch(64)\n",
    "history = conv_model.fit(train_dataset, epochs=100, validation_data=test_dataset)"
   ]
  },
  {
   "cell_type": "markdown",
   "metadata": {},
   "source": [
    "<a name='5'></a>\n",
    "## 5 - History Object \n",
    "\n",
    "The history object is an output of the `.fit()` operation, and provides a record of all the loss and metric values in memory. It's stored as a dictionary that you can retrieve at `history.history`: "
   ]
  },
  {
   "cell_type": "code",
   "execution_count": 18,
   "metadata": {},
   "outputs": [
    {
     "data": {
      "text/plain": [
       "{'loss': [1.9585124254226685,\n",
       "  1.8035833835601807,\n",
       "  1.7909152507781982,\n",
       "  1.7867436408996582,\n",
       "  1.784301519393921,\n",
       "  1.7814103364944458,\n",
       "  1.7786375284194946,\n",
       "  1.774858832359314,\n",
       "  1.7709225416183472,\n",
       "  1.7661212682724,\n",
       "  1.759558081626892,\n",
       "  1.7517938613891602,\n",
       "  1.741292953491211,\n",
       "  1.7257134914398193,\n",
       "  1.7062689065933228,\n",
       "  1.6810537576675415,\n",
       "  1.6509647369384766,\n",
       "  1.6177937984466553,\n",
       "  1.5816746950149536,\n",
       "  1.5458623170852661,\n",
       "  1.5123374462127686,\n",
       "  1.4813538789749146,\n",
       "  1.4516791105270386,\n",
       "  1.4246076345443726,\n",
       "  1.3991485834121704,\n",
       "  1.3756554126739502,\n",
       "  1.3530362844467163,\n",
       "  1.3307738304138184,\n",
       "  1.3102681636810303,\n",
       "  1.2895156145095825,\n",
       "  1.270053505897522,\n",
       "  1.2509725093841553,\n",
       "  1.2324390411376953,\n",
       "  1.2129738330841064,\n",
       "  1.1927417516708374,\n",
       "  1.1727957725524902,\n",
       "  1.1534920930862427,\n",
       "  1.1355654001235962,\n",
       "  1.118233323097229,\n",
       "  1.1008137464523315,\n",
       "  1.0839780569076538,\n",
       "  1.067657232284546,\n",
       "  1.0510090589523315,\n",
       "  1.034515142440796,\n",
       "  1.0175281763076782,\n",
       "  1.0019522905349731,\n",
       "  0.986358642578125,\n",
       "  0.9713314771652222,\n",
       "  0.956865668296814,\n",
       "  0.9423832893371582,\n",
       "  0.9287797212600708,\n",
       "  0.9151297807693481,\n",
       "  0.9016534686088562,\n",
       "  0.8886862397193909,\n",
       "  0.8757591247558594,\n",
       "  0.8634997606277466,\n",
       "  0.8515209555625916,\n",
       "  0.8351225256919861,\n",
       "  0.8188180923461914,\n",
       "  0.8035964369773865,\n",
       "  0.78814697265625,\n",
       "  0.7719390988349915,\n",
       "  0.756496250629425,\n",
       "  0.742492139339447,\n",
       "  0.729581356048584,\n",
       "  0.7169942259788513,\n",
       "  0.7049072980880737,\n",
       "  0.693962812423706,\n",
       "  0.6826580762863159,\n",
       "  0.6715919375419617,\n",
       "  0.6613729596138,\n",
       "  0.6506497263908386,\n",
       "  0.6410788297653198,\n",
       "  0.6319926381111145,\n",
       "  0.6229720115661621,\n",
       "  0.6138375997543335,\n",
       "  0.6055248975753784,\n",
       "  0.5969050526618958,\n",
       "  0.5890990495681763,\n",
       "  0.5813824534416199,\n",
       "  0.5739943385124207,\n",
       "  0.5666913986206055,\n",
       "  0.5598175525665283,\n",
       "  0.5535205602645874,\n",
       "  0.5468059778213501,\n",
       "  0.540343701839447,\n",
       "  0.5347374081611633,\n",
       "  0.5282867550849915,\n",
       "  0.5232662558555603,\n",
       "  0.5166457295417786,\n",
       "  0.5119829177856445,\n",
       "  0.5055376291275024,\n",
       "  0.5009865760803223,\n",
       "  0.49504828453063965,\n",
       "  0.4906271994113922,\n",
       "  0.48557141423225403,\n",
       "  0.48107999563217163,\n",
       "  0.4761451482772827,\n",
       "  0.4715656340122223,\n",
       "  0.4671253263950348],\n",
       " 'accuracy': [0.1666666716337204,\n",
       "  0.16851851344108582,\n",
       "  0.16388888657093048,\n",
       "  0.17037037014961243,\n",
       "  0.23888888955116272,\n",
       "  0.24074074625968933,\n",
       "  0.25648146867752075,\n",
       "  0.28333333134651184,\n",
       "  0.2925925850868225,\n",
       "  0.31018519401550293,\n",
       "  0.3361110985279083,\n",
       "  0.3453703820705414,\n",
       "  0.3712962865829468,\n",
       "  0.39722222089767456,\n",
       "  0.38425925374031067,\n",
       "  0.39722222089767456,\n",
       "  0.39907407760620117,\n",
       "  0.42129629850387573,\n",
       "  0.4296296238899231,\n",
       "  0.43611112236976624,\n",
       "  0.4435185194015503,\n",
       "  0.45092591643333435,\n",
       "  0.4583333432674408,\n",
       "  0.46481481194496155,\n",
       "  0.47777777910232544,\n",
       "  0.49074074625968933,\n",
       "  0.5018518567085266,\n",
       "  0.5166666507720947,\n",
       "  0.529629647731781,\n",
       "  0.5379629731178284,\n",
       "  0.5546296238899231,\n",
       "  0.5657407641410828,\n",
       "  0.574999988079071,\n",
       "  0.5842592716217041,\n",
       "  0.6000000238418579,\n",
       "  0.6064814925193787,\n",
       "  0.6157407164573669,\n",
       "  0.6277777552604675,\n",
       "  0.6379629373550415,\n",
       "  0.6435185074806213,\n",
       "  0.6481481194496155,\n",
       "  0.6527777910232544,\n",
       "  0.6592592597007751,\n",
       "  0.6629629731178284,\n",
       "  0.6722221970558167,\n",
       "  0.6805555820465088,\n",
       "  0.6861110925674438,\n",
       "  0.6935185194015503,\n",
       "  0.7027778029441833,\n",
       "  0.7092592716217041,\n",
       "  0.710185170173645,\n",
       "  0.7194444537162781,\n",
       "  0.7231481671333313,\n",
       "  0.7259259223937988,\n",
       "  0.7250000238418579,\n",
       "  0.7277777791023254,\n",
       "  0.729629635810852,\n",
       "  0.7287036776542664,\n",
       "  0.739814817905426,\n",
       "  0.7472222447395325,\n",
       "  0.7537037134170532,\n",
       "  0.770370364189148,\n",
       "  0.7768518328666687,\n",
       "  0.7777777910232544,\n",
       "  0.7870370149612427,\n",
       "  0.7879629731178284,\n",
       "  0.7925925850868225,\n",
       "  0.7935185432434082,\n",
       "  0.7953703999519348,\n",
       "  0.7962962985038757,\n",
       "  0.8027777671813965,\n",
       "  0.8046296238899231,\n",
       "  0.8037037253379822,\n",
       "  0.8046296238899231,\n",
       "  0.8111110925674438,\n",
       "  0.8129629492759705,\n",
       "  0.8111110925674438,\n",
       "  0.8101851940155029,\n",
       "  0.8120370507240295,\n",
       "  0.8148148059844971,\n",
       "  0.8138889074325562,\n",
       "  0.8185185194015503,\n",
       "  0.8203703761100769,\n",
       "  0.8240740895271301,\n",
       "  0.8268518447875977,\n",
       "  0.8287037014961243,\n",
       "  0.8333333134651184,\n",
       "  0.835185170173645,\n",
       "  0.835185170173645,\n",
       "  0.8379629850387573,\n",
       "  0.8361111283302307,\n",
       "  0.8388888835906982,\n",
       "  0.8388888835906982,\n",
       "  0.8416666388511658,\n",
       "  0.845370352268219,\n",
       "  0.8462963104248047,\n",
       "  0.8472222089767456,\n",
       "  0.8481481671333313,\n",
       "  0.8490740656852722,\n",
       "  0.8500000238418579],\n",
       " 'val_loss': [1.8191640377044678,\n",
       "  1.7908341884613037,\n",
       "  1.7889281511306763,\n",
       "  1.78628671169281,\n",
       "  1.7843129634857178,\n",
       "  1.7818970680236816,\n",
       "  1.779951810836792,\n",
       "  1.776379108428955,\n",
       "  1.7722336053848267,\n",
       "  1.7673354148864746,\n",
       "  1.760618805885315,\n",
       "  1.752051830291748,\n",
       "  1.7420084476470947,\n",
       "  1.7280699014663696,\n",
       "  1.708618402481079,\n",
       "  1.6844217777252197,\n",
       "  1.6576026678085327,\n",
       "  1.6298363208770752,\n",
       "  1.5996872186660767,\n",
       "  1.5707054138183594,\n",
       "  1.542824625968933,\n",
       "  1.5157440900802612,\n",
       "  1.490440845489502,\n",
       "  1.4661625623703003,\n",
       "  1.4428290128707886,\n",
       "  1.4202297925949097,\n",
       "  1.3979324102401733,\n",
       "  1.377280354499817,\n",
       "  1.356190800666809,\n",
       "  1.3369356393814087,\n",
       "  1.3178024291992188,\n",
       "  1.299184799194336,\n",
       "  1.2804043292999268,\n",
       "  1.2634059190750122,\n",
       "  1.2434474229812622,\n",
       "  1.2248300313949585,\n",
       "  1.2078380584716797,\n",
       "  1.1912617683410645,\n",
       "  1.174560785293579,\n",
       "  1.158637285232544,\n",
       "  1.1423693895339966,\n",
       "  1.126617431640625,\n",
       "  1.1107852458953857,\n",
       "  1.0960884094238281,\n",
       "  1.0809978246688843,\n",
       "  1.0667271614074707,\n",
       "  1.052597165107727,\n",
       "  1.0394567251205444,\n",
       "  1.027647614479065,\n",
       "  1.0144984722137451,\n",
       "  1.0017611980438232,\n",
       "  0.9888613820075989,\n",
       "  0.9780965447425842,\n",
       "  0.9653139710426331,\n",
       "  0.9544957280158997,\n",
       "  0.941726803779602,\n",
       "  0.924896240234375,\n",
       "  0.9031049013137817,\n",
       "  0.885283887386322,\n",
       "  0.8669161200523376,\n",
       "  0.8503534197807312,\n",
       "  0.833639919757843,\n",
       "  0.8183050751686096,\n",
       "  0.8057957887649536,\n",
       "  0.7942352890968323,\n",
       "  0.7835717797279358,\n",
       "  0.7732419371604919,\n",
       "  0.7629877924919128,\n",
       "  0.7531806826591492,\n",
       "  0.7434200048446655,\n",
       "  0.7309940457344055,\n",
       "  0.7232924103736877,\n",
       "  0.7136985659599304,\n",
       "  0.7044439911842346,\n",
       "  0.6954475045204163,\n",
       "  0.6873520016670227,\n",
       "  0.6803062558174133,\n",
       "  0.6728532314300537,\n",
       "  0.6665007472038269,\n",
       "  0.6598749756813049,\n",
       "  0.6542379260063171,\n",
       "  0.6483484506607056,\n",
       "  0.642684817314148,\n",
       "  0.6377246975898743,\n",
       "  0.6320508122444153,\n",
       "  0.6266571283340454,\n",
       "  0.6222081780433655,\n",
       "  0.6162605881690979,\n",
       "  0.612885057926178,\n",
       "  0.6070005893707275,\n",
       "  0.6040402054786682,\n",
       "  0.5986230373382568,\n",
       "  0.5956518054008484,\n",
       "  0.5916345715522766,\n",
       "  0.5878385901451111,\n",
       "  0.5830951929092407,\n",
       "  0.5794216394424438,\n",
       "  0.5752478241920471,\n",
       "  0.5716368556022644,\n",
       "  0.568368673324585],\n",
       " 'val_accuracy': [0.1666666716337204,\n",
       "  0.15833333134651184,\n",
       "  0.15833333134651184,\n",
       "  0.21666666865348816,\n",
       "  0.17499999701976776,\n",
       "  0.23333333432674408,\n",
       "  0.25833332538604736,\n",
       "  0.2750000059604645,\n",
       "  0.3083333373069763,\n",
       "  0.3499999940395355,\n",
       "  0.38333332538604736,\n",
       "  0.36666667461395264,\n",
       "  0.3916666805744171,\n",
       "  0.4166666567325592,\n",
       "  0.4000000059604645,\n",
       "  0.4416666626930237,\n",
       "  0.4416666626930237,\n",
       "  0.42500001192092896,\n",
       "  0.40833333134651184,\n",
       "  0.4000000059604645,\n",
       "  0.4000000059604645,\n",
       "  0.40833333134651184,\n",
       "  0.4333333373069763,\n",
       "  0.4416666626930237,\n",
       "  0.46666666865348816,\n",
       "  0.4833333194255829,\n",
       "  0.4833333194255829,\n",
       "  0.5,\n",
       "  0.5333333611488342,\n",
       "  0.5416666865348816,\n",
       "  0.5416666865348816,\n",
       "  0.5416666865348816,\n",
       "  0.550000011920929,\n",
       "  0.5666666626930237,\n",
       "  0.5916666388511658,\n",
       "  0.574999988079071,\n",
       "  0.5833333134651184,\n",
       "  0.5916666388511658,\n",
       "  0.6000000238418579,\n",
       "  0.6000000238418579,\n",
       "  0.6083333492279053,\n",
       "  0.6000000238418579,\n",
       "  0.6166666746139526,\n",
       "  0.6333333253860474,\n",
       "  0.6333333253860474,\n",
       "  0.6333333253860474,\n",
       "  0.625,\n",
       "  0.625,\n",
       "  0.625,\n",
       "  0.6333333253860474,\n",
       "  0.625,\n",
       "  0.625,\n",
       "  0.6333333253860474,\n",
       "  0.6333333253860474,\n",
       "  0.6333333253860474,\n",
       "  0.6333333253860474,\n",
       "  0.6333333253860474,\n",
       "  0.6499999761581421,\n",
       "  0.6499999761581421,\n",
       "  0.6833333373069763,\n",
       "  0.6916666626930237,\n",
       "  0.6916666626930237,\n",
       "  0.6833333373069763,\n",
       "  0.699999988079071,\n",
       "  0.699999988079071,\n",
       "  0.699999988079071,\n",
       "  0.6916666626930237,\n",
       "  0.6916666626930237,\n",
       "  0.6916666626930237,\n",
       "  0.7083333134651184,\n",
       "  0.7166666388511658,\n",
       "  0.7333333492279053,\n",
       "  0.7416666746139526,\n",
       "  0.75,\n",
       "  0.75,\n",
       "  0.7583333253860474,\n",
       "  0.7666666507720947,\n",
       "  0.7666666507720947,\n",
       "  0.7666666507720947,\n",
       "  0.7666666507720947,\n",
       "  0.7749999761581421,\n",
       "  0.7749999761581421,\n",
       "  0.7749999761581421,\n",
       "  0.7749999761581421,\n",
       "  0.7749999761581421,\n",
       "  0.7749999761581421,\n",
       "  0.7749999761581421,\n",
       "  0.7749999761581421,\n",
       "  0.7749999761581421,\n",
       "  0.7749999761581421,\n",
       "  0.7749999761581421,\n",
       "  0.7749999761581421,\n",
       "  0.7749999761581421,\n",
       "  0.7749999761581421,\n",
       "  0.7749999761581421,\n",
       "  0.7749999761581421,\n",
       "  0.7749999761581421,\n",
       "  0.7666666507720947,\n",
       "  0.7749999761581421,\n",
       "  0.7749999761581421]}"
      ]
     },
     "execution_count": 18,
     "metadata": {},
     "output_type": "execute_result"
    }
   ],
   "source": [
    "history.history"
   ]
  },
  {
   "cell_type": "markdown",
   "metadata": {},
   "source": [
    "Now visualize the loss over time using `history.history`: "
   ]
  },
  {
   "cell_type": "code",
   "execution_count": 19,
   "metadata": {},
   "outputs": [
    {
     "name": "stderr",
     "output_type": "stream",
     "text": [
      "c:\\Python\\Python395\\lib\\site-packages\\pandas\\core\\frame.py:5039: SettingWithCopyWarning: \n",
      "A value is trying to be set on a copy of a slice from a DataFrame\n",
      "\n",
      "See the caveats in the documentation: https://pandas.pydata.org/pandas-docs/stable/user_guide/indexing.html#returning-a-view-versus-a-copy\n",
      "  return super().rename(\n"
     ]
    },
    {
     "data": {
      "text/plain": [
       "[Text(0.5, 0, 'Epoch'), Text(0, 0.5, 'Accuracy')]"
      ]
     },
     "execution_count": 19,
     "metadata": {},
     "output_type": "execute_result"
    },
    {
     "data": {
      "image/png": "[encoded data removed]",
      "text/plain": [
       "<Figure size 864x576 with 1 Axes>"
      ]
     },
     "metadata": {
      "needs_background": "light"
     },
     "output_type": "display_data"
    },
    {
     "data": {
      "image/png": "[encoded data removed]",
      "text/plain": [
       "<Figure size 864x576 with 1 Axes>"
      ]
     },
     "metadata": {
      "needs_background": "light"
     },
     "output_type": "display_data"
    }
   ],
   "source": [
    "# The history.history[\"loss\"] entry is a dictionary with as many values as epochs that the\n",
    "# model was trained on. \n",
    "df_loss_acc = pd.DataFrame(history.history)\n",
    "df_loss= df_loss_acc[['loss','val_loss']]\n",
    "df_loss.rename(columns={'loss':'train','val_loss':'validation'},inplace=True)\n",
    "df_acc= df_loss_acc[['accuracy','val_accuracy']]\n",
    "df_acc.rename(columns={'accuracy':'train','val_accuracy':'validation'},inplace=True)\n",
    "df_loss.plot(title='Model loss',figsize=(12,8)).set(xlabel='Epoch',ylabel='Loss')\n",
    "df_acc.plot(title='Model Accuracy',figsize=(12,8)).set(xlabel='Epoch',ylabel='Accuracy')"
   ]
  },
  {
   "cell_type": "markdown",
   "metadata": {},
   "source": [
    "**Congratulations**! You've finished the assignment and built two models: One that recognizes  smiles, and another that recognizes SIGN language with almost 80% accuracy on the test set. In addition to that, you now also understand the applications of two Keras APIs: Sequential and Functional. Nicely done! \n",
    "\n",
    "By now, you know a bit about how the Functional API works and may have glimpsed the possibilities. In your next assignment, you'll really get a feel for its power when you get the opportunity to build a very deep ConvNet, using ResNets! "
   ]
  },
  {
   "cell_type": "markdown",
   "metadata": {},
   "source": [
    "<a name='6'></a>\n",
    "## 6 - Bibliography\n",
    "\n",
    "You're always encouraged to read the official documentation. To that end, you can find the docs for the Sequential and Functional APIs here: \n",
    "\n",
    "https://www.tensorflow.org/guide/keras/sequential_model\n",
    "\n",
    "https://www.tensorflow.org/guide/keras/functional"
   ]
  }
 ],
 "metadata": {
  "coursera": {
   "course_slug": "convolutional-neural-networks",
   "graded_item_id": "bwbJV",
   "launcher_item_id": "0TkXB"
  },
  "kernelspec": {
   "display_name": "Python 3.9.7 64-bit",
   "language": "python",
   "name": "python3"
  },
  "language_info": {
   "codemirror_mode": {
    "name": "ipython",
    "version": 3
   },
   "file_extension": ".py",
   "mimetype": "text/x-python",
   "name": "python",
   "nbconvert_exporter": "python",
   "pygments_lexer": "ipython3",
   "version": "3.9.7"
  },
  "vscode": {
   "interpreter": {
    "hash": "903d28fc8095cdeaee5be616f3ebb92fafee475741240b3f05159e4f3ac8bf72"
   }
  }
 },
 "nbformat": 4,
 "nbformat_minor": 2
}
